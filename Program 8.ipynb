{
 "cells": [
  {
   "cell_type": "code",
   "execution_count": 1,
   "id": "c454d912",
   "metadata": {},
   "outputs": [],
   "source": [
    "import numpy as np\n",
    "\n"
   ]
  },
  {
   "cell_type": "code",
   "execution_count": 2,
   "id": "dc83b32a",
   "metadata": {},
   "outputs": [],
   "source": [
    "def sigmoid(x):\n",
    "    return 1/(1+np.exp(-x))\n"
   ]
  },
  {
   "cell_type": "code",
   "execution_count": 3,
   "id": "0cd12f79",
   "metadata": {},
   "outputs": [],
   "source": [
    "def sigmoid_derivation(x):\n",
    "    return x*(x-1)\n"
   ]
  },
  {
   "cell_type": "code",
   "execution_count": 4,
   "id": "c967145b",
   "metadata": {},
   "outputs": [],
   "source": [
    "input = np.array([[0,0,1],\n",
    "                  [1,1,1],\n",
    "                  [1,0,1],\n",
    "                  [0,1,1]])\n"
   ]
  },
  {
   "cell_type": "code",
   "execution_count": 5,
   "id": "b9a6ff1f",
   "metadata": {},
   "outputs": [],
   "source": [
    "a_output = np.array([[0,1,1,0]]).T"
   ]
  },
  {
   "cell_type": "code",
   "execution_count": 6,
   "id": "ebf3829e",
   "metadata": {},
   "outputs": [],
   "source": [
    "np.random.seed(1)"
   ]
  },
  {
   "cell_type": "code",
   "execution_count": 7,
   "id": "ae978491",
   "metadata": {},
   "outputs": [],
   "source": [
    "weights = 2* np.random.random((3,1)) - 1"
   ]
  },
  {
   "cell_type": "code",
   "execution_count": 8,
   "id": "df476de8",
   "metadata": {},
   "outputs": [
    {
     "name": "stdout",
     "output_type": "stream",
     "text": [
      "Initial weights are:\n",
      "[[-0.16595599]\n",
      " [ 0.44064899]\n",
      " [-0.99977125]]\n"
     ]
    }
   ],
   "source": [
    "print('Initial weights are:')\n",
    "print(weights)\n"
   ]
  },
  {
   "cell_type": "code",
   "execution_count": 9,
   "id": "32dd865a",
   "metadata": {},
   "outputs": [],
   "source": [
    "for i in range(10000):\n",
    "  input_layer = input\n",
    "  o_output = sigmoid(np.dot(input_layer, weights))\n"
   ]
  },
  {
   "cell_type": "code",
   "execution_count": 10,
   "id": "4ee485de",
   "metadata": {},
   "outputs": [],
   "source": [
    "  loss = o_output - a_output"
   ]
  },
  {
   "cell_type": "code",
   "execution_count": 11,
   "id": "117a2739",
   "metadata": {},
   "outputs": [],
   "source": [
    " adjustment = loss * sigmoid_derivation(o_output)"
   ]
  },
  {
   "cell_type": "code",
   "execution_count": 12,
   "id": "c9519999",
   "metadata": {},
   "outputs": [],
   "source": [
    "weights = weights + np.dot(input_layer.T, adjustment)"
   ]
  },
  {
   "cell_type": "code",
   "execution_count": 13,
   "id": "d56dbdd2",
   "metadata": {},
   "outputs": [
    {
     "name": "stdout",
     "output_type": "stream",
     "text": [
      "new weights are:\n",
      "[[ 0.12025406]\n",
      " [ 0.50456196]\n",
      " [-0.85063774]]\n",
      "obtained output values are\n",
      "[[0.2689864 ]\n",
      " [0.3262757 ]\n",
      " [0.23762817]\n",
      " [0.36375058]]\n"
     ]
    }
   ],
   "source": [
    "print('new weights are:')\n",
    "print(weights)\n",
    "\n",
    "print('obtained output values are')\n",
    "print(o_output)\n"
   ]
  },
  {
   "cell_type": "code",
   "execution_count": null,
   "id": "5182aa91",
   "metadata": {},
   "outputs": [],
   "source": []
  }
 ],
 "metadata": {
  "kernelspec": {
   "display_name": "Python 3",
   "language": "python",
   "name": "python3"
  },
  "language_info": {
   "codemirror_mode": {
    "name": "ipython",
    "version": 3
   },
   "file_extension": ".py",
   "mimetype": "text/x-python",
   "name": "python",
   "nbconvert_exporter": "python",
   "pygments_lexer": "ipython3",
   "version": "3.8.8"
  }
 },
 "nbformat": 4,
 "nbformat_minor": 5
}
