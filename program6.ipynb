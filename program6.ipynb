{
 "cells": [
  {
   "cell_type": "code",
   "execution_count": 1,
   "id": "1000d17f",
   "metadata": {},
   "outputs": [],
   "source": [
    "import numpy as np\n",
    "import pandas as pd"
   ]
  },
  {
   "cell_type": "code",
   "execution_count": 2,
   "id": "c24a1efe",
   "metadata": {},
   "outputs": [],
   "source": [
    "from sklearn import tree, metrics, model_selection, preprocessing  \n",
    " \n",
    "from sklearn.neighbors import KNeighborsClassifier \n",
    "from sklearn.metrics import confusion_matrix"
   ]
  },
  {
   "cell_type": "code",
   "execution_count": 3,
   "id": "0a731c0f",
   "metadata": {},
   "outputs": [],
   "source": [
    "df = pd.read_csv('iris.csv') "
   ]
  },
  {
   "cell_type": "code",
   "execution_count": 4,
   "id": "110d13e4",
   "metadata": {},
   "outputs": [],
   "source": [
    "y = df.iloc[:,-1].values \n",
    "x = df.iloc[:,0:4].values \n"
   ]
  },
  {
   "cell_type": "code",
   "execution_count": 5,
   "id": "c0c2d052",
   "metadata": {},
   "outputs": [
    {
     "data": {
      "text/plain": [
       "array([[ 8,  0,  0],\n",
       "       [ 0, 11,  1],\n",
       "       [ 0,  1,  9]], dtype=int64)"
      ]
     },
     "execution_count": 5,
     "metadata": {},
     "output_type": "execute_result"
    }
   ],
   "source": [
    "x_train, x_test, y_train, y_test = model_selection.train_test_split(x, y, test_size = 0.2) \n",
    "classifier = KNeighborsClassifier(n_neighbors=3) \n",
    "classifier.fit(x_train,y_train) \n",
    "y_predict = classifier.predict(x_test) \n",
    "acuuracy = metrics.accuracy_score(y_test, y_predict) \n",
    "confusion_matrix(y_test, y_predict) \n"
   ]
  },
  {
   "cell_type": "code",
   "execution_count": null,
   "id": "0e5b5a42",
   "metadata": {},
   "outputs": [],
   "source": []
  }
 ],
 "metadata": {
  "kernelspec": {
   "display_name": "Python 3",
   "language": "python",
   "name": "python3"
  },
  "language_info": {
   "codemirror_mode": {
    "name": "ipython",
    "version": 3
   },
   "file_extension": ".py",
   "mimetype": "text/x-python",
   "name": "python",
   "nbconvert_exporter": "python",
   "pygments_lexer": "ipython3",
   "version": "3.8.8"
  }
 },
 "nbformat": 4,
 "nbformat_minor": 5
}
